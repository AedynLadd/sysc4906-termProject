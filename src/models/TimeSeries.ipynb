{
 "cells": [
  {
   "cell_type": "markdown",
   "metadata": {},
   "source": [
    "# Time Series Forecasting"
   ]
  },
  {
   "cell_type": "code",
   "execution_count": 1,
   "metadata": {},
   "outputs": [],
   "source": [
    "import numpy as np\n",
    "import pandas as pd\n",
    "import json\n",
    "from matplotlib import pyplot as plt\n",
    "from datetime import datetime\n",
    "from statsmodels.tsa.vector_ar.var_model import VAR\n",
    "from statsmodels.tsa.vector_ar.vecm import coint_johansen\n",
    "from statsmodels.tsa.stattools import adfuller\n",
    "\n",
    "regression_days_used = 60"
   ]
  },
  {
   "cell_type": "code",
   "execution_count": 37,
   "metadata": {},
   "outputs": [
    {
     "data": {
      "text/html": [
       "<div>\n",
       "<style scoped>\n",
       "    .dataframe tbody tr th:only-of-type {\n",
       "        vertical-align: middle;\n",
       "    }\n",
       "\n",
       "    .dataframe tbody tr th {\n",
       "        vertical-align: top;\n",
       "    }\n",
       "\n",
       "    .dataframe thead th {\n",
       "        text-align: right;\n",
       "    }\n",
       "</style>\n",
       "<table border=\"1\" class=\"dataframe\">\n",
       "  <thead>\n",
       "    <tr style=\"text-align: right;\">\n",
       "      <th></th>\n",
       "      <th>open</th>\n",
       "      <th>count</th>\n",
       "      <th>sentiment</th>\n",
       "    </tr>\n",
       "    <tr>\n",
       "      <th>timestamp</th>\n",
       "      <th></th>\n",
       "      <th></th>\n",
       "      <th></th>\n",
       "    </tr>\n",
       "  </thead>\n",
       "  <tbody>\n",
       "    <tr>\n",
       "      <th>2021-06-07</th>\n",
       "      <td>43273.054043</td>\n",
       "      <td>2.0</td>\n",
       "      <td>0.208</td>\n",
       "    </tr>\n",
       "    <tr>\n",
       "      <th>2021-06-09</th>\n",
       "      <td>40480.023706</td>\n",
       "      <td>1.0</td>\n",
       "      <td>0.495</td>\n",
       "    </tr>\n",
       "    <tr>\n",
       "      <th>2021-06-10</th>\n",
       "      <td>45297.585159</td>\n",
       "      <td>2.0</td>\n",
       "      <td>-0.276</td>\n",
       "    </tr>\n",
       "    <tr>\n",
       "      <th>2021-06-14</th>\n",
       "      <td>47443.153091</td>\n",
       "      <td>1.0</td>\n",
       "      <td>0.403</td>\n",
       "    </tr>\n",
       "    <tr>\n",
       "      <th>2021-06-15</th>\n",
       "      <td>49091.884823</td>\n",
       "      <td>1.0</td>\n",
       "      <td>0.000</td>\n",
       "    </tr>\n",
       "  </tbody>\n",
       "</table>\n",
       "</div>"
      ],
      "text/plain": [
       "                    open  count  sentiment\n",
       "timestamp                                 \n",
       "2021-06-07  43273.054043    2.0      0.208\n",
       "2021-06-09  40480.023706    1.0      0.495\n",
       "2021-06-10  45297.585159    2.0     -0.276\n",
       "2021-06-14  47443.153091    1.0      0.403\n",
       "2021-06-15  49091.884823    1.0      0.000"
      ]
     },
     "execution_count": 37,
     "metadata": {},
     "output_type": "execute_result"
    }
   ],
   "source": [
    "\n",
    "coin_file = open(\"../../data/raw/coinmarketcap/historical_data.json\")\n",
    "coin_data = json.load(coin_file)\n",
    "\n",
    "coin_data = pd.DataFrame(coin_data[\"Bitcoin\"])\n",
    "sentiment_data_df = pd.read_json(\"../../data/processed/reddit_summary_all.json\", orient=\"index\")\n",
    "\n",
    "keyword_sentiment_data = sentiment_data_df[\"keyword_based_sentiment\"].apply(pd.Series)\n",
    "\n",
    "Bitcoin_specific_sentiment = keyword_sentiment_data[\"bitcoin\"].apply(pd.Series)[[\"count\",\"sentiment\"]].dropna()\n",
    "\n",
    "coin_data[\"timestamp\"] = pd.to_datetime(coin_data[\"timestamp\"]).dt.date\n",
    "\n",
    "Bitcoin_specific_sentiment.reset_index(inplace=True)\n",
    "Bitcoin_specific_sentiment.rename(columns = {\"index\": 'timestamp'}, inplace=True)\n",
    "Bitcoin_specific_sentiment[\"timestamp\"] = pd.to_datetime(Bitcoin_specific_sentiment[\"timestamp\"]).dt.date\n",
    "\n",
    "\n",
    "merged_data = pd.merge(left=coin_data, right=Bitcoin_specific_sentiment, how='left', left_on='timestamp', right_on='timestamp').dropna()\n",
    "\n",
    "merged_data.index = pd.DatetimeIndex(merged_data[\"timestamp\"]).to_period(\"d\")\n",
    "merged_data.drop(labels = \"timestamp\", axis = 1, inplace=True)\n",
    "#merged_data.drop(labels = [\"high\", \"low\", \"close\", \"volume\", \"marketCap\", \"count\"], axis=1, inplace=True)\n",
    "merged_data.drop(labels = [\"high\", \"low\", \"close\", \"volume\", \"marketCap\"], axis=1, inplace=True)\n",
    "merged_data.head(5)"
   ]
  },
  {
   "cell_type": "code",
   "execution_count": 3,
   "metadata": {},
   "outputs": [
    {
     "data": {
      "text/plain": [
       "array([3.63384859e-01, 2.96991641e-02, 1.51654493e-04])"
      ]
     },
     "execution_count": 3,
     "metadata": {},
     "output_type": "execute_result"
    }
   ],
   "source": [
    "coint_johansen(merged_data, -1, 1).eig"
   ]
  },
  {
   "cell_type": "code",
   "execution_count": 4,
   "metadata": {},
   "outputs": [
    {
     "name": "stdout",
     "output_type": "stream",
     "text": [
      "    Augmented Dickey-Fuller Test on \"open\" \n",
      "    -----------------------------------------------\n",
      " Null Hypothesis: Data has unit root. Non-Stationary.\n",
      " Significance Level    = 0.05\n",
      " Test Statistic        = -5.0276\n",
      " No. Lags Chosen       = 10\n",
      " Critical value 1%     = -3.571\n",
      " Critical value 5%     = -2.923\n",
      " Critical value 10%    = -2.599\n",
      " => P-Value = 0.0. Rejecting Null Hypothesis.\n",
      " => Series is Stationary.\n",
      "\n",
      "\n",
      "    Augmented Dickey-Fuller Test on \"count\" \n",
      "    -----------------------------------------------\n",
      " Null Hypothesis: Data has unit root. Non-Stationary.\n",
      " Significance Level    = 0.05\n",
      " Test Statistic        = -4.3034\n",
      " No. Lags Chosen       = 11\n",
      " Critical value 1%     = -3.575\n",
      " Critical value 5%     = -2.924\n",
      " Critical value 10%    = -2.6\n",
      " => P-Value = 0.0004. Rejecting Null Hypothesis.\n",
      " => Series is Stationary.\n",
      "\n",
      "\n",
      "    Augmented Dickey-Fuller Test on \"sentiment\" \n",
      "    -----------------------------------------------\n",
      " Null Hypothesis: Data has unit root. Non-Stationary.\n",
      " Significance Level    = 0.05\n",
      " Test Statistic        = -3.0307\n",
      " No. Lags Chosen       = 11\n",
      " Critical value 1%     = -3.575\n",
      " Critical value 5%     = -2.924\n",
      " Critical value 10%    = -2.6\n",
      " => P-Value = 0.0321. Rejecting Null Hypothesis.\n",
      " => Series is Stationary.\n",
      "\n",
      "\n"
     ]
    }
   ],
   "source": [
    "def adfuller_test(series, signif=0.05, name='', verbose=False):\n",
    "    \"\"\"Perform ADFuller to test for Stationarity of given series and print report\"\"\"\n",
    "    r = adfuller(series, autolag='AIC')\n",
    "    output = {'test_statistic':round(r[0], 4), 'pvalue':round(r[1], 4), 'n_lags':round(r[2], 4), 'n_obs':r[3]}\n",
    "    p_value = output['pvalue'] \n",
    "    def adjust(val, length= 6): return str(val).ljust(length)\n",
    "\n",
    "    # Print Summary\n",
    "    print(f'    Augmented Dickey-Fuller Test on \"{name}\"', \"\\n   \", '-'*47)\n",
    "    print(f' Null Hypothesis: Data has unit root. Non-Stationary.')\n",
    "    print(f' Significance Level    = {signif}')\n",
    "    print(f' Test Statistic        = {output[\"test_statistic\"]}')\n",
    "    print(f' No. Lags Chosen       = {output[\"n_lags\"]}')\n",
    "\n",
    "    for key,val in r[4].items():\n",
    "        print(f' Critical value {adjust(key)} = {round(val, 3)}')\n",
    "\n",
    "    if p_value <= signif:\n",
    "        print(f\" => P-Value = {p_value}. Rejecting Null Hypothesis.\")\n",
    "        print(f\" => Series is Stationary.\")\n",
    "    else:\n",
    "        print(f\" => P-Value = {p_value}. Weak evidence to reject the Null Hypothesis.\")\n",
    "        print(f\" => Series is Non-Stationary.\")    \n",
    "\n",
    "df_difference = merged_data.diff().diff().diff().dropna()\n",
    "df_difference = df_difference[-regression_days_used:]\n",
    "for name, column in df_difference.iteritems():\n",
    "    adfuller_test(column, name=column.name)\n",
    "    print('\\n')"
   ]
  },
  {
   "cell_type": "code",
   "execution_count": 18,
   "metadata": {},
   "outputs": [
    {
     "data": {
      "text/html": [
       "<table class=\"simpletable\">\n",
       "<caption>VAR Order Selection (* highlights the minimums)</caption>\n",
       "<tr>\n",
       "   <td></td>      <th>AIC</th>         <th>BIC</th>         <th>FPE</th>        <th>HQIC</th>    \n",
       "</tr>\n",
       "<tr>\n",
       "  <th>0</th>  <td>     27.76</td>  <td>     27.89</td>  <td> 1.142e+12</td>  <td>     27.81</td> \n",
       "</tr>\n",
       "<tr>\n",
       "  <th>1</th>  <td>     25.85</td>  <td>     26.34</td>  <td> 1.682e+11</td>  <td>     26.03</td> \n",
       "</tr>\n",
       "<tr>\n",
       "  <th>2</th>  <td>     24.30</td>  <td>     25.16</td>  <td> 3.613e+10</td>  <td>     24.62</td> \n",
       "</tr>\n",
       "<tr>\n",
       "  <th>3</th>  <td>     23.53</td>  <td>     24.76</td>  <td> 1.704e+10</td>  <td>     23.99</td> \n",
       "</tr>\n",
       "<tr>\n",
       "  <th>4</th>  <td>     23.19</td>  <td>     24.79</td>  <td> 1.247e+10</td>  <td>     23.78</td> \n",
       "</tr>\n",
       "<tr>\n",
       "  <th>5</th>  <td>     23.13</td>  <td>     25.09</td>  <td> 1.239e+10</td>  <td>     23.85</td> \n",
       "</tr>\n",
       "<tr>\n",
       "  <th>6</th>  <td>     22.96</td>  <td>     25.29</td>  <td> 1.136e+10</td>  <td>     23.82</td> \n",
       "</tr>\n",
       "<tr>\n",
       "  <th>7</th>  <td>     22.20</td>  <td>     24.91</td>  <td> 6.052e+09</td>  <td>     23.20</td> \n",
       "</tr>\n",
       "<tr>\n",
       "  <th>8</th>  <td>     22.08</td>  <td>     25.15</td>  <td> 6.368e+09</td>  <td>     23.21</td> \n",
       "</tr>\n",
       "<tr>\n",
       "  <th>9</th>  <td>     21.60</td>  <td>     25.04</td>  <td> 5.108e+09</td>  <td>     22.87</td> \n",
       "</tr>\n",
       "<tr>\n",
       "  <th>10</th> <td>     20.02*</td> <td>     23.83*</td> <td> 1.535e+09*</td> <td>     21.42*</td>\n",
       "</tr>\n",
       "</table>"
      ],
      "text/plain": [
       "<class 'statsmodels.iolib.table.SimpleTable'>"
      ]
     },
     "execution_count": 18,
     "metadata": {},
     "output_type": "execute_result"
    }
   ],
   "source": [
    "#creating the train and validation set\n",
    "\n",
    "num_obs = 7\n",
    "train = df_difference[:-num_obs]\n",
    "\n",
    "model = VAR(train)\n",
    "\n",
    "suggested_order = model.select_order(maxlags=10)\n",
    "suggested_order.summary()"
   ]
  },
  {
   "cell_type": "code",
   "execution_count": 30,
   "metadata": {},
   "outputs": [
    {
     "data": {
      "text/plain": [
       "  Summary of Regression Results   \n",
       "==================================\n",
       "Model:                         VAR\n",
       "Method:                        OLS\n",
       "Date:           Wed, 30, Mar, 2022\n",
       "Time:                     08:33:43\n",
       "--------------------------------------------------------------------\n",
       "No. of Equations:         3.00000    BIC:                    25.7244\n",
       "Nobs:                     52.0000    HQIC:                   25.4467\n",
       "Log likelihood:          -866.481    FPE:                9.47981e+10\n",
       "AIC:                      25.2741    Det(Omega_mle):     7.59007e+10\n",
       "--------------------------------------------------------------------\n",
       "Results for equation open\n",
       "===============================================================================\n",
       "                  coefficient       std. error           t-stat            prob\n",
       "-------------------------------------------------------------------------------\n",
       "const               26.789983       937.895132            0.029           0.977\n",
       "L1.open             -0.662035         0.108472           -6.103           0.000\n",
       "L1.count           -19.514351        37.445139           -0.521           0.602\n",
       "L1.sentiment        27.759485       322.206214            0.086           0.931\n",
       "===============================================================================\n",
       "\n",
       "Results for equation count\n",
       "===============================================================================\n",
       "                  coefficient       std. error           t-stat            prob\n",
       "-------------------------------------------------------------------------------\n",
       "const               -0.412168         2.986613           -0.138           0.890\n",
       "L1.open             -0.000058         0.000345           -0.169           0.866\n",
       "L1.count            -0.717679         0.119239           -6.019           0.000\n",
       "L1.sentiment         3.283414         1.026026            3.200           0.001\n",
       "===============================================================================\n",
       "\n",
       "Results for equation sentiment\n",
       "===============================================================================\n",
       "                  coefficient       std. error           t-stat            prob\n",
       "-------------------------------------------------------------------------------\n",
       "const               -0.077602         0.271741           -0.286           0.775\n",
       "L1.open              0.000020         0.000031            0.624           0.532\n",
       "L1.count             0.002651         0.010849            0.244           0.807\n",
       "L1.sentiment        -0.860644         0.093354           -9.219           0.000\n",
       "===============================================================================\n",
       "\n",
       "Correlation matrix of residuals\n",
       "                 open     count  sentiment\n",
       "open         1.000000 -0.060210  -0.065123\n",
       "count       -0.060210  1.000000   0.235153\n",
       "sentiment   -0.065123  0.235153   1.000000\n",
       "\n"
      ]
     },
     "execution_count": 30,
     "metadata": {},
     "output_type": "execute_result"
    }
   ],
   "source": [
    "results = model.fit(1)\n",
    "results.summary()"
   ]
  },
  {
   "cell_type": "code",
   "execution_count": 31,
   "metadata": {},
   "outputs": [
    {
     "name": "stdout",
     "output_type": "stream",
     "text": [
      "open : 2.67\n",
      "count : 2.69\n",
      "sentiment : 2.64\n"
     ]
    }
   ],
   "source": [
    "from statsmodels.stats.stattools import durbin_watson\n",
    "\n",
    "out = durbin_watson(results.resid)\n",
    "\n",
    "\n",
    "for col, val in zip(train.columns, out):\n",
    "    print(col, ':', round(val, 2))\n"
   ]
  },
  {
   "cell_type": "code",
   "execution_count": 33,
   "metadata": {},
   "outputs": [
    {
     "name": "stdout",
     "output_type": "stream",
     "text": [
      "LAG ORDER IS: 1 \n",
      "2022-03-25\n",
      "              count_2d  open_forecast   count_1d  count_forecast  \\\n",
      "2022-03-25  -29.865924   55911.360337 -34.865924      200.134076   \n",
      "2022-03-26   91.830976   58195.033541  56.965052      257.099129   \n",
      "2022-03-27 -127.860903   57253.613917 -70.895851      186.203278   \n",
      "2022-03-28  145.070990   61421.814032  74.175139      260.378417   \n",
      "2022-03-29 -152.472240   59000.257114 -78.297101      182.081317   \n",
      "2022-03-30  151.743273   64301.538818  73.446172      255.527488   \n",
      "2022-03-31 -148.216197   61230.572262 -74.770025      180.757464   \n",
      "\n",
      "            sentiment_forecast  \n",
      "2022-03-25           33.344964  \n",
      "2022-03-26           32.793411  \n",
      "2022-03-27           48.545545  \n",
      "2022-03-28           49.786163  \n",
      "2022-03-29           63.923278  \n",
      "2022-03-30           66.349980  \n",
      "2022-03-31           79.331399  \n"
     ]
    }
   ],
   "source": [
    "lag_order = results.k_ar\n",
    "\n",
    "print(\"LAG ORDER IS: {} \".format(lag_order))\n",
    "\n",
    "forecasting_input = df_difference.values[-lag_order:]\n",
    "\n",
    "\n",
    "fc = results.forecast(forecasting_input, steps=num_obs)\n",
    "\n",
    "print(df_difference.index[-1])\n",
    "\n",
    "idx = pd.date_range(str(df_difference.index[-1]), periods=num_obs, freq='D')\n",
    "\n",
    "df_forecast = pd.DataFrame(fc, index=idx, columns=df_difference.columns + '_2d')\n",
    "\n",
    "def invert_transformation(df_train, df_forecast, second_diff=False):\n",
    "    \"\"\"Revert back the differencing to get the forecast to original scale.\"\"\"\n",
    "    df_fc = df_forecast.copy()\n",
    "    columns = df_train.columns\n",
    "    for col in columns:        \n",
    "        # Roll back 2nd Diff\n",
    "        if second_diff:\n",
    "            df_fc[str(col)+'_1d'] = (df_train[col].iloc[-1]-df_train[col].iloc[-2]) + df_fc[str(col)+'_2d'].cumsum()\n",
    "        # Roll back 1st Diff\n",
    "        df_fc[str(col)+'_forecast'] = df_train[col].iloc[-1] + df_fc[str(col)+'_1d'].cumsum()\n",
    "    return df_fc\n",
    "\n",
    "df_results = invert_transformation(merged_data[-regression_days_used:], df_forecast, second_diff=True)    \n",
    "df_results.drop([\"open_2d\", \"open_1d\", \"sentiment_1d\", \"sentiment_2d\"], axis=1, inplace=True)\n",
    "print(df_results)"
   ]
  },
  {
   "cell_type": "code",
   "execution_count": 34,
   "metadata": {},
   "outputs": [
    {
     "name": "stdout",
     "output_type": "stream",
     "text": [
      "                    open  count  sentiment\n",
      "timestamp                                 \n",
      "2022-03-19  52682.153595   74.0      4.695\n",
      "2022-03-20  53182.477353   91.0      8.015\n",
      "2022-03-21  51996.731145  106.0      5.327\n",
      "2022-03-22  51707.943734  133.0      8.400\n",
      "2022-03-23  53308.367835  181.0      7.867\n",
      "2022-03-24  53864.050890  240.0     18.571\n",
      "2022-03-25  55047.920399  235.0     15.178\n",
      "            open_forecast  sentiment_forecast\n",
      "2022-03-25   55911.360337           33.344964\n",
      "2022-03-26   58195.033541           32.793411\n",
      "2022-03-27   57253.613917           48.545545\n",
      "2022-03-28   61421.814032           49.786163\n",
      "2022-03-29   59000.257114           63.923278\n",
      "2022-03-30   64301.538818           66.349980\n",
      "2022-03-31   61230.572262           79.331399\n"
     ]
    }
   ],
   "source": [
    "print(merged_data[-num_obs:])\n",
    "\n",
    "forecasts = df_results[[\"open_forecast\", \"sentiment_forecast\"]]\n",
    "print(forecasts)"
   ]
  },
  {
   "cell_type": "code",
   "execution_count": 36,
   "metadata": {},
   "outputs": [
    {
     "name": "stdout",
     "output_type": "stream",
     "text": [
      "2022-03-25    55911.360337\n",
      "2022-03-26    58195.033541\n",
      "2022-03-27    57253.613917\n",
      "2022-03-28    61421.814032\n",
      "2022-03-29    59000.257114\n",
      "2022-03-30    64301.538818\n",
      "2022-03-31    61230.572262\n",
      "Freq: D, Name: open_forecast, dtype: float64\n"
     ]
    },
    {
     "data": {
      "text/plain": [
       "<AxesSubplot:xlabel='timestamp'>"
      ]
     },
     "execution_count": 36,
     "metadata": {},
     "output_type": "execute_result"
    },
    {
     "data": {
      "image/png": "[encoded data removed]",
      "text/plain": [
       "<Figure size 432x288 with 1 Axes>"
      ]
     },
     "metadata": {
      "needs_background": "light"
     },
     "output_type": "display_data"
    }
   ],
   "source": [
    "\n",
    "forecast_data = forecasts[\"open_forecast\"]\n",
    "actual_data = merged_data[-30:][\"open\"]\n",
    "\n",
    "print(forecast_data)\n",
    "\n",
    "actual_data.plot(y=\"open\")\n",
    "forecast_data.plot(y=\"open_forecast\")"
   ]
  }
 ],
 "metadata": {
  "interpreter": {
   "hash": "2be5faf79681da6f2a61fdfdd5405d65d042280f7fba6178067603e3a2925119"
  },
  "kernelspec": {
   "display_name": "Python 3.10.1 64-bit",
   "language": "python",
   "name": "python3"
  },
  "language_info": {
   "codemirror_mode": {
    "name": "ipython",
    "version": 3
   },
   "file_extension": ".py",
   "mimetype": "text/x-python",
   "name": "python",
   "nbconvert_exporter": "python",
   "pygments_lexer": "ipython3",
   "version": "3.10.1"
  },
  "orig_nbformat": 4
 },
 "nbformat": 4,
 "nbformat_minor": 2
}
