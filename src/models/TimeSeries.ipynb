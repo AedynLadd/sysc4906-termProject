{
 "cells": [
  {
   "cell_type": "markdown",
   "metadata": {},
   "source": [
    "# Time Series Forecasting"
   ]
  },
  {
   "cell_type": "code",
   "execution_count": 111,
   "metadata": {},
   "outputs": [],
   "source": [
    "import numpy as np\n",
    "import pandas as pd\n",
    "import json\n",
    "from matplotlib import pyplot as plt\n",
    "from datetime import datetime\n",
    "from statsmodels.tsa.vector_ar.var_model import VAR\n",
    "from statsmodels.tsa.vector_ar.vecm import coint_johansen"
   ]
  },
  {
   "cell_type": "code",
   "execution_count": 115,
   "metadata": {},
   "outputs": [
    {
     "data": {
      "text/html": [
       "<div>\n",
       "<style scoped>\n",
       "    .dataframe tbody tr th:only-of-type {\n",
       "        vertical-align: middle;\n",
       "    }\n",
       "\n",
       "    .dataframe tbody tr th {\n",
       "        vertical-align: top;\n",
       "    }\n",
       "\n",
       "    .dataframe thead th {\n",
       "        text-align: right;\n",
       "    }\n",
       "</style>\n",
       "<table border=\"1\" class=\"dataframe\">\n",
       "  <thead>\n",
       "    <tr style=\"text-align: right;\">\n",
       "      <th></th>\n",
       "      <th>open</th>\n",
       "      <th>high</th>\n",
       "      <th>low</th>\n",
       "      <th>close</th>\n",
       "      <th>volume</th>\n",
       "      <th>marketCap</th>\n",
       "      <th>count</th>\n",
       "      <th>sentiment</th>\n",
       "    </tr>\n",
       "    <tr>\n",
       "      <th>timestamp</th>\n",
       "      <th></th>\n",
       "      <th></th>\n",
       "      <th></th>\n",
       "      <th></th>\n",
       "      <th></th>\n",
       "      <th></th>\n",
       "      <th></th>\n",
       "      <th></th>\n",
       "    </tr>\n",
       "  </thead>\n",
       "  <tbody>\n",
       "    <tr>\n",
       "      <th>2021-06-07</th>\n",
       "      <td>43273.054043</td>\n",
       "      <td>44470.604093</td>\n",
       "      <td>40468.787642</td>\n",
       "      <td>40562.109146</td>\n",
       "      <td>4.067521e+10</td>\n",
       "      <td>7.590364e+11</td>\n",
       "      <td>2.0</td>\n",
       "      <td>0.208</td>\n",
       "    </tr>\n",
       "    <tr>\n",
       "      <th>2021-06-09</th>\n",
       "      <td>40480.023706</td>\n",
       "      <td>45478.402017</td>\n",
       "      <td>39317.719107</td>\n",
       "      <td>45243.801406</td>\n",
       "      <td>6.538069e+10</td>\n",
       "      <td>8.473666e+11</td>\n",
       "      <td>1.0</td>\n",
       "      <td>0.495</td>\n",
       "    </tr>\n",
       "    <tr>\n",
       "      <th>2021-06-10</th>\n",
       "      <td>45297.585159</td>\n",
       "      <td>46418.728004</td>\n",
       "      <td>43360.496468</td>\n",
       "      <td>44397.482847</td>\n",
       "      <td>5.279258e+10</td>\n",
       "      <td>8.329211e+11</td>\n",
       "      <td>2.0</td>\n",
       "      <td>-0.276</td>\n",
       "    </tr>\n",
       "    <tr>\n",
       "      <th>2021-06-14</th>\n",
       "      <td>47443.153091</td>\n",
       "      <td>49712.902865</td>\n",
       "      <td>47115.292443</td>\n",
       "      <td>48838.464001</td>\n",
       "      <td>5.246744e+10</td>\n",
       "      <td>9.161922e+11</td>\n",
       "      <td>1.0</td>\n",
       "      <td>0.403</td>\n",
       "    </tr>\n",
       "    <tr>\n",
       "      <th>2021-06-15</th>\n",
       "      <td>49091.884823</td>\n",
       "      <td>50341.616585</td>\n",
       "      <td>48205.357763</td>\n",
       "      <td>49245.140328</td>\n",
       "      <td>5.636933e+10</td>\n",
       "      <td>9.192833e+11</td>\n",
       "      <td>1.0</td>\n",
       "      <td>0.000</td>\n",
       "    </tr>\n",
       "  </tbody>\n",
       "</table>\n",
       "</div>"
      ],
      "text/plain": [
       "                    open          high           low         close  \\\n",
       "timestamp                                                            \n",
       "2021-06-07  43273.054043  44470.604093  40468.787642  40562.109146   \n",
       "2021-06-09  40480.023706  45478.402017  39317.719107  45243.801406   \n",
       "2021-06-10  45297.585159  46418.728004  43360.496468  44397.482847   \n",
       "2021-06-14  47443.153091  49712.902865  47115.292443  48838.464001   \n",
       "2021-06-15  49091.884823  50341.616585  48205.357763  49245.140328   \n",
       "\n",
       "                  volume     marketCap  count  sentiment  \n",
       "timestamp                                                 \n",
       "2021-06-07  4.067521e+10  7.590364e+11    2.0      0.208  \n",
       "2021-06-09  6.538069e+10  8.473666e+11    1.0      0.495  \n",
       "2021-06-10  5.279258e+10  8.329211e+11    2.0     -0.276  \n",
       "2021-06-14  5.246744e+10  9.161922e+11    1.0      0.403  \n",
       "2021-06-15  5.636933e+10  9.192833e+11    1.0      0.000  "
      ]
     },
     "execution_count": 115,
     "metadata": {},
     "output_type": "execute_result"
    }
   ],
   "source": [
    "\n",
    "coin_file = open(\"../../data/raw/coinmarketcap/historical_data.json\")\n",
    "coin_data = json.load(coin_file)\n",
    "\n",
    "coin_data = pd.DataFrame(coin_data[\"Bitcoin\"])\n",
    "sentiment_data_df = pd.read_json(\"../../data/processed/reddit_summary_all.json\", orient=\"index\")\n",
    "\n",
    "keyword_sentiment_data = sentiment_data_df[\"keyword_based_sentiment\"].apply(pd.Series)\n",
    "\n",
    "Bitcoin_specific_sentiment = keyword_sentiment_data[\"bitcoin\"].apply(pd.Series)[[\"count\",\"sentiment\"]].dropna()\n",
    "\n",
    "coin_data[\"timestamp\"] = pd.to_datetime(coin_data[\"timestamp\"]).dt.date\n",
    "\n",
    "Bitcoin_specific_sentiment.reset_index(inplace=True)\n",
    "Bitcoin_specific_sentiment.rename(columns = {\"index\": 'timestamp'}, inplace=True)\n",
    "Bitcoin_specific_sentiment[\"timestamp\"] = pd.to_datetime(Bitcoin_specific_sentiment[\"timestamp\"]).dt.date\n",
    "\n",
    "\n",
    "merged_data = pd.merge(left=coin_data, right=Bitcoin_specific_sentiment, how='left', left_on='timestamp', right_on='timestamp').dropna()\n",
    "\n",
    "merged_data.index = merged_data[\"timestamp\"]\n",
    "merged_data.drop(labels = \"timestamp\", axis = 1, inplace=True)\n",
    "\n",
    "merged_data.head(5)"
   ]
  },
  {
   "cell_type": "code",
   "execution_count": 116,
   "metadata": {},
   "outputs": [
    {
     "data": {
      "text/plain": [
       "array([0.69878119, 0.50903889, 0.44064159, 0.27856811, 0.22696237,\n",
       "       0.10489492, 0.0369286 , 0.00164803])"
      ]
     },
     "execution_count": 116,
     "metadata": {},
     "output_type": "execute_result"
    }
   ],
   "source": [
    "coint_johansen(merged_data, -1, 1).eig"
   ]
  },
  {
   "cell_type": "code",
   "execution_count": 199,
   "metadata": {},
   "outputs": [
    {
     "name": "stdout",
     "output_type": "stream",
     "text": [
      "Index([2022-03-10, 2022-03-11, 2022-03-12, 2022-03-13, 2022-03-14, 2022-03-15,\n",
      "       2022-03-16, 2022-03-17, 2022-03-18, 2022-03-19, 2022-03-20, 2022-03-21,\n",
      "       2022-03-22, 2022-03-23, 2022-03-24, 2022-03-25],\n",
      "      dtype='object', name='timestamp')\n"
     ]
    },
    {
     "name": "stderr",
     "output_type": "stream",
     "text": [
      "C:\\Python310\\lib\\site-packages\\statsmodels\\tsa\\base\\tsa_model.py:471: ValueWarning: A date index has been provided, but it has no associated frequency information and so will be ignored when e.g. forecasting.\n",
      "  self._init_dates(dates, freq)\n"
     ]
    },
    {
     "ename": "AttributeError",
     "evalue": "'str' object has no attribute 'shape'",
     "output_type": "error",
     "traceback": [
      "\u001b[1;31m---------------------------------------------------------------------------\u001b[0m",
      "\u001b[1;31mAttributeError\u001b[0m                            Traceback (most recent call last)",
      "\u001b[1;32mg:\\sysc4906-termProject\\src\\models\\TimeSeries.ipynb Cell 5'\u001b[0m in \u001b[0;36m<cell line: 12>\u001b[1;34m()\u001b[0m\n\u001b[0;32m     <a href='vscode-notebook-cell:/g%3A/sysc4906-termProject/src/models/TimeSeries.ipynb#ch0000004?line=9'>10</a>\u001b[0m \u001b[39m# make prediction on validation\u001b[39;00m\n\u001b[0;32m     <a href='vscode-notebook-cell:/g%3A/sysc4906-termProject/src/models/TimeSeries.ipynb#ch0000004?line=10'>11</a>\u001b[0m \u001b[39mprint\u001b[39m(valid\u001b[39m.\u001b[39mindex)\n\u001b[1;32m---> <a href='vscode-notebook-cell:/g%3A/sysc4906-termProject/src/models/TimeSeries.ipynb#ch0000004?line=11'>12</a>\u001b[0m prediction \u001b[39m=\u001b[39m results\u001b[39m.\u001b[39;49mforecast(\u001b[39m'\u001b[39;49m\u001b[39m2022-03-10\u001b[39;49m\u001b[39m'\u001b[39;49m, steps\u001b[39m=\u001b[39;49m\u001b[39mlen\u001b[39;49m(valid))\n",
      "File \u001b[1;32mC:\\Python310\\lib\\site-packages\\statsmodels\\tsa\\vector_ar\\var_model.py:1163\u001b[0m, in \u001b[0;36mVARProcess.forecast\u001b[1;34m(self, y, steps, exog_future)\u001b[0m\n\u001b[0;32m   <a href='file:///c%3A/Python310/lib/site-packages/statsmodels/tsa/vector_ar/var_model.py?line=1160'>1161</a>\u001b[0m \u001b[39melse\u001b[39;00m:\n\u001b[0;32m   <a href='file:///c%3A/Python310/lib/site-packages/statsmodels/tsa/vector_ar/var_model.py?line=1161'>1162</a>\u001b[0m     exog_future \u001b[39m=\u001b[39m np\u001b[39m.\u001b[39mcolumn_stack(exogs)\n\u001b[1;32m-> <a href='file:///c%3A/Python310/lib/site-packages/statsmodels/tsa/vector_ar/var_model.py?line=1162'>1163</a>\u001b[0m \u001b[39mreturn\u001b[39;00m forecast(y, \u001b[39mself\u001b[39;49m\u001b[39m.\u001b[39;49mcoefs, trend_coefs, steps, exog_future)\n",
      "File \u001b[1;32mC:\\Python310\\lib\\site-packages\\statsmodels\\tsa\\vector_ar\\var_model.py:232\u001b[0m, in \u001b[0;36mforecast\u001b[1;34m(y, coefs, trend_coefs, steps, exog)\u001b[0m\n\u001b[0;32m    <a href='file:///c%3A/Python310/lib/site-packages/statsmodels/tsa/vector_ar/var_model.py?line=229'>230</a>\u001b[0m p \u001b[39m=\u001b[39m \u001b[39mlen\u001b[39m(coefs)\n\u001b[0;32m    <a href='file:///c%3A/Python310/lib/site-packages/statsmodels/tsa/vector_ar/var_model.py?line=230'>231</a>\u001b[0m k \u001b[39m=\u001b[39m \u001b[39mlen\u001b[39m(coefs[\u001b[39m0\u001b[39m])\n\u001b[1;32m--> <a href='file:///c%3A/Python310/lib/site-packages/statsmodels/tsa/vector_ar/var_model.py?line=231'>232</a>\u001b[0m \u001b[39mif\u001b[39;00m y\u001b[39m.\u001b[39;49mshape[\u001b[39m0\u001b[39m] \u001b[39m<\u001b[39m p:\n\u001b[0;32m    <a href='file:///c%3A/Python310/lib/site-packages/statsmodels/tsa/vector_ar/var_model.py?line=232'>233</a>\u001b[0m     \u001b[39mraise\u001b[39;00m \u001b[39mValueError\u001b[39;00m(\n\u001b[0;32m    <a href='file:///c%3A/Python310/lib/site-packages/statsmodels/tsa/vector_ar/var_model.py?line=233'>234</a>\u001b[0m         \u001b[39mf\u001b[39m\u001b[39m\"\u001b[39m\u001b[39my must by have at least order (\u001b[39m\u001b[39m{\u001b[39;00mp\u001b[39m}\u001b[39;00m\u001b[39m) observations. \u001b[39m\u001b[39m\"\u001b[39m\n\u001b[0;32m    <a href='file:///c%3A/Python310/lib/site-packages/statsmodels/tsa/vector_ar/var_model.py?line=234'>235</a>\u001b[0m         \u001b[39mf\u001b[39m\u001b[39m\"\u001b[39m\u001b[39mGot \u001b[39m\u001b[39m{\u001b[39;00my\u001b[39m.\u001b[39mshape[\u001b[39m0\u001b[39m]\u001b[39m}\u001b[39;00m\u001b[39m.\u001b[39m\u001b[39m\"\u001b[39m\n\u001b[0;32m    <a href='file:///c%3A/Python310/lib/site-packages/statsmodels/tsa/vector_ar/var_model.py?line=235'>236</a>\u001b[0m     )\n\u001b[0;32m    <a href='file:///c%3A/Python310/lib/site-packages/statsmodels/tsa/vector_ar/var_model.py?line=236'>237</a>\u001b[0m \u001b[39m# initial value\u001b[39;00m\n",
      "\u001b[1;31mAttributeError\u001b[0m: 'str' object has no attribute 'shape'"
     ]
    }
   ],
   "source": [
    "#creating the train and validation set\n",
    "split_ind = int(0.8*(len(merged_data)))\n",
    "train = merged_data[:split_ind]\n",
    "valid = merged_data[split_ind:]\n",
    "\n",
    "model = VAR(endog=train)\n",
    "results = model.fit(maxlags=2, ic=\"aic\")\n",
    "results.summary()\n",
    "\n",
    "# make prediction on validation\n"
   ]
  }
 ],
 "metadata": {
  "interpreter": {
   "hash": "2be5faf79681da6f2a61fdfdd5405d65d042280f7fba6178067603e3a2925119"
  },
  "kernelspec": {
   "display_name": "Python 3.10.1 64-bit",
   "language": "python",
   "name": "python3"
  },
  "language_info": {
   "codemirror_mode": {
    "name": "ipython",
    "version": 3
   },
   "file_extension": ".py",
   "mimetype": "text/x-python",
   "name": "python",
   "nbconvert_exporter": "python",
   "pygments_lexer": "ipython3",
   "version": "3.10.1"
  },
  "orig_nbformat": 4
 },
 "nbformat": 4,
 "nbformat_minor": 2
}
