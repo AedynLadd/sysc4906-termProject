{
 "cells": [
  {
   "cell_type": "markdown",
   "metadata": {},
   "source": [
    "# Time Series Forecasting"
   ]
  },
  {
   "cell_type": "code",
   "execution_count": 1,
   "metadata": {},
   "outputs": [],
   "source": [
    "import numpy as np\n",
    "import pandas as pd\n",
    "import json\n",
    "from matplotlib import pyplot as plt\n",
    "from datetime import datetime\n",
    "from statsmodels.tsa.vector_ar.var_model import VAR\n",
    "from statsmodels.tsa.vector_ar.vecm import coint_johansen\n",
    "from statsmodels.tsa.stattools import adfuller\n",
    "\n",
    "regression_days_used = 60"
   ]
  },
  {
   "cell_type": "code",
   "execution_count": 8,
   "metadata": {},
   "outputs": [
    {
     "data": {
      "text/html": [
       "<div>\n",
       "<style scoped>\n",
       "    .dataframe tbody tr th:only-of-type {\n",
       "        vertical-align: middle;\n",
       "    }\n",
       "\n",
       "    .dataframe tbody tr th {\n",
       "        vertical-align: top;\n",
       "    }\n",
       "\n",
       "    .dataframe thead th {\n",
       "        text-align: right;\n",
       "    }\n",
       "</style>\n",
       "<table border=\"1\" class=\"dataframe\">\n",
       "  <thead>\n",
       "    <tr style=\"text-align: right;\">\n",
       "      <th></th>\n",
       "      <th>open</th>\n",
       "      <th>count</th>\n",
       "      <th>sentiment</th>\n",
       "    </tr>\n",
       "    <tr>\n",
       "      <th>timestamp</th>\n",
       "      <th></th>\n",
       "      <th></th>\n",
       "      <th></th>\n",
       "    </tr>\n",
       "  </thead>\n",
       "  <tbody>\n",
       "    <tr>\n",
       "      <th>2022-02-22</th>\n",
       "      <td>47292.338598</td>\n",
       "      <td>15.0</td>\n",
       "      <td>0.319</td>\n",
       "    </tr>\n",
       "    <tr>\n",
       "      <th>2022-02-23</th>\n",
       "      <td>48881.232286</td>\n",
       "      <td>31.0</td>\n",
       "      <td>0.596</td>\n",
       "    </tr>\n",
       "    <tr>\n",
       "      <th>2022-02-24</th>\n",
       "      <td>47472.202298</td>\n",
       "      <td>23.0</td>\n",
       "      <td>-1.202</td>\n",
       "    </tr>\n",
       "    <tr>\n",
       "      <th>2022-02-25</th>\n",
       "      <td>49099.205024</td>\n",
       "      <td>44.0</td>\n",
       "      <td>1.397</td>\n",
       "    </tr>\n",
       "    <tr>\n",
       "      <th>2022-02-26</th>\n",
       "      <td>49853.946198</td>\n",
       "      <td>24.0</td>\n",
       "      <td>1.839</td>\n",
       "    </tr>\n",
       "  </tbody>\n",
       "</table>\n",
       "</div>"
      ],
      "text/plain": [
       "                    open  count  sentiment\n",
       "timestamp                                 \n",
       "2022-02-22  47292.338598   15.0      0.319\n",
       "2022-02-23  48881.232286   31.0      0.596\n",
       "2022-02-24  47472.202298   23.0     -1.202\n",
       "2022-02-25  49099.205024   44.0      1.397\n",
       "2022-02-26  49853.946198   24.0      1.839"
      ]
     },
     "execution_count": 8,
     "metadata": {},
     "output_type": "execute_result"
    }
   ],
   "source": [
    "\n",
    "coin_file = open(\"../../data/raw/coinmarketcap/historical_data.json\")\n",
    "coin_data = json.load(coin_file)\n",
    "\n",
    "coin_data = pd.DataFrame(coin_data[\"Bitcoin\"])\n",
    "\n",
    "sentiment_data_df = pd.read_json(\"../../data/processed/reddit_summary_all.json\", orient=\"index\")\n",
    "\n",
    "keyword_sentiment_data = sentiment_data_df[\"keyword_based_sentiment\"].apply(pd.Series)\n",
    "\n",
    "Bitcoin_specific_sentiment = keyword_sentiment_data[\"BTC\"].apply(pd.Series)[[\"count\",\"sentiment\"]].dropna()\n",
    "\n",
    "coin_data[\"timestamp\"] = pd.to_datetime(coin_data[\"timestamp\"]).dt.date\n",
    "\n",
    "Bitcoin_specific_sentiment.reset_index(inplace=True)\n",
    "Bitcoin_specific_sentiment.rename(columns = {\"index\": 'timestamp'}, inplace=True)\n",
    "Bitcoin_specific_sentiment[\"timestamp\"] = pd.to_datetime(Bitcoin_specific_sentiment[\"timestamp\"]).dt.date\n",
    "\n",
    "\n",
    "merged_data = pd.merge(left=coin_data, right=Bitcoin_specific_sentiment, how='left', left_on='timestamp', right_on='timestamp').dropna()\n",
    "\n",
    "merged_data.index = pd.DatetimeIndex(merged_data[\"timestamp\"]).to_period(\"d\")\n",
    "merged_data.drop(labels = \"timestamp\", axis = 1, inplace=True)\n",
    "#merged_data.drop(labels = [\"high\", \"low\", \"close\", \"volume\", \"marketCap\", \"count\"], axis=1, inplace=True)\n",
    "merged_data.drop(labels = [\"high\", \"low\", \"close\", \"volume\", \"marketCap\"], axis=1, inplace=True)\n",
    "merged_data.head(5)"
   ]
  },
  {
   "cell_type": "code",
   "execution_count": 9,
   "metadata": {},
   "outputs": [
    {
     "data": {
      "text/plain": [
       "array([0.33660554, 0.16633899, 0.00471072])"
      ]
     },
     "execution_count": 9,
     "metadata": {},
     "output_type": "execute_result"
    }
   ],
   "source": [
    "coint_johansen(merged_data, -1, 1).eig"
   ]
  },
  {
   "cell_type": "code",
   "execution_count": 21,
   "metadata": {},
   "outputs": [
    {
     "name": "stdout",
     "output_type": "stream",
     "text": [
      "    Augmented Dickey-Fuller Test on \"open\" \n",
      "    -----------------------------------------------\n",
      " Null Hypothesis: Data has unit root. Non-Stationary.\n",
      " Significance Level    = 0.05\n",
      " Test Statistic        = -3.2847\n",
      " No. Lags Chosen       = 9\n",
      " Critical value 1%     = -3.809\n",
      " Critical value 5%     = -3.022\n",
      " Critical value 10%    = -2.651\n",
      " => P-Value = 0.0156. Rejecting Null Hypothesis.\n",
      " => Series is Stationary.\n",
      "\n",
      "\n",
      "    Augmented Dickey-Fuller Test on \"count\" \n",
      "    -----------------------------------------------\n",
      " Null Hypothesis: Data has unit root. Non-Stationary.\n",
      " Significance Level    = 0.05\n",
      " Test Statistic        = -2.8614\n",
      " No. Lags Chosen       = 9\n",
      " Critical value 1%     = -3.809\n",
      " Critical value 5%     = -3.022\n",
      " Critical value 10%    = -2.651\n",
      " => P-Value = 0.05. Rejecting Null Hypothesis.\n",
      " => Series is Stationary.\n",
      "\n",
      "\n",
      "    Augmented Dickey-Fuller Test on \"sentiment\" \n",
      "    -----------------------------------------------\n",
      " Null Hypothesis: Data has unit root. Non-Stationary.\n",
      " Significance Level    = 0.05\n",
      " Test Statistic        = -3.6573\n",
      " No. Lags Chosen       = 7\n",
      " Critical value 1%     = -3.77\n",
      " Critical value 5%     = -3.005\n",
      " Critical value 10%    = -2.643\n",
      " => P-Value = 0.0048. Rejecting Null Hypothesis.\n",
      " => Series is Stationary.\n",
      "\n",
      "\n"
     ]
    }
   ],
   "source": [
    "def adfuller_test(series, signif=0.05, name='', verbose=False):\n",
    "    \"\"\"Perform ADFuller to test for Stationarity of given series and print report\"\"\"\n",
    "    r = adfuller(series, autolag='AIC')\n",
    "    output = {'test_statistic':round(r[0], 4), 'pvalue':round(r[1], 4), 'n_lags':round(r[2], 4), 'n_obs':r[3]}\n",
    "    p_value = output['pvalue'] \n",
    "    def adjust(val, length= 6): return str(val).ljust(length)\n",
    "\n",
    "    # Print Summary\n",
    "    print(f'    Augmented Dickey-Fuller Test on \"{name}\"', \"\\n   \", '-'*47)\n",
    "    print(f' Null Hypothesis: Data has unit root. Non-Stationary.')\n",
    "    print(f' Significance Level    = {signif}')\n",
    "    print(f' Test Statistic        = {output[\"test_statistic\"]}')\n",
    "    print(f' No. Lags Chosen       = {output[\"n_lags\"]}')\n",
    "\n",
    "    for key,val in r[4].items():\n",
    "        print(f' Critical value {adjust(key)} = {round(val, 3)}')\n",
    "\n",
    "    if p_value <= signif:\n",
    "        print(f\" => P-Value = {p_value}. Rejecting Null Hypothesis.\")\n",
    "        print(f\" => Series is Stationary.\")\n",
    "    else:\n",
    "        print(f\" => P-Value = {p_value}. Weak evidence to reject the Null Hypothesis.\")\n",
    "        print(f\" => Series is Non-Stationary.\")    \n",
    "\n",
    "df_difference = merged_data.diff().diff().diff().dropna()\n",
    "df_difference = df_difference[-regression_days_used:]\n",
    "for name, column in df_difference.iteritems():\n",
    "    adfuller_test(column, name=column.name)\n",
    "    print('\\n')"
   ]
  },
  {
   "cell_type": "code",
   "execution_count": 15,
   "metadata": {},
   "outputs": [
    {
     "data": {
      "text/html": [
       "<table class=\"simpletable\">\n",
       "<caption>VAR Order Selection (* highlights the minimums)</caption>\n",
       "<tr>\n",
       "  <td></td>      <th>AIC</th>         <th>BIC</th>         <th>FPE</th>        <th>HQIC</th>    \n",
       "</tr>\n",
       "<tr>\n",
       "  <th>0</th> <td>     26.66</td>  <td>     26.81</td>  <td> 3.793e+11</td>  <td>     26.70</td> \n",
       "</tr>\n",
       "<tr>\n",
       "  <th>1</th> <td>     25.64</td>  <td>     26.23*</td> <td> 1.380e+11</td>  <td>     25.80</td> \n",
       "</tr>\n",
       "<tr>\n",
       "  <th>2</th> <td>     25.54</td>  <td>     26.57</td>  <td> 1.301e+11</td>  <td>     25.81</td> \n",
       "</tr>\n",
       "<tr>\n",
       "  <th>3</th> <td>     25.34*</td> <td>     26.81</td>  <td> 1.191e+11*</td> <td>     25.73*</td>\n",
       "</tr>\n",
       "<tr>\n",
       "  <th>4</th> <td>     25.58</td>  <td>     27.50</td>  <td> 1.905e+11</td>  <td>     26.09</td> \n",
       "</tr>\n",
       "</table>"
      ],
      "text/plain": [
       "<class 'statsmodels.iolib.table.SimpleTable'>"
      ]
     },
     "execution_count": 15,
     "metadata": {},
     "output_type": "execute_result"
    }
   ],
   "source": [
    "#creating the train and validation set\n",
    "\n",
    "num_obs = 3\n",
    "train = df_difference[:-num_obs]\n",
    "\n",
    "model = VAR(train)\n",
    "\n",
    "suggested_order = model.select_order(maxlags=4)\n",
    "suggested_order.summary()"
   ]
  },
  {
   "cell_type": "code",
   "execution_count": 16,
   "metadata": {},
   "outputs": [
    {
     "data": {
      "text/plain": [
       "  Summary of Regression Results   \n",
       "==================================\n",
       "Model:                         VAR\n",
       "Method:                        OLS\n",
       "Date:           Wed, 30, Mar, 2022\n",
       "Time:                     16:08:01\n",
       "--------------------------------------------------------------------\n",
       "No. of Equations:         3.00000    BIC:                    26.6656\n",
       "Nobs:                     25.0000    HQIC:                   25.6086\n",
       "Log likelihood:          -391.457    FPE:                1.01655e+11\n",
       "AIC:                      25.2030    Det(Omega_mle):     3.70462e+10\n",
       "--------------------------------------------------------------------\n",
       "Results for equation open\n",
       "===============================================================================\n",
       "                  coefficient       std. error           t-stat            prob\n",
       "-------------------------------------------------------------------------------\n",
       "const              -20.700076       578.458831           -0.036           0.971\n",
       "L1.open             -0.594659         0.243667           -2.440           0.015\n",
       "L1.count           -26.637095        25.015621           -1.065           0.287\n",
       "L1.sentiment       268.063902       232.932311            1.151           0.250\n",
       "L2.open             -0.539234         0.271803           -1.984           0.047\n",
       "L2.count            16.707707        29.458889            0.567           0.571\n",
       "L2.sentiment        77.115830       315.497140            0.244           0.807\n",
       "L3.open             -0.300643         0.264061           -1.139           0.255\n",
       "L3.count             7.086976        25.080090            0.283           0.778\n",
       "L3.sentiment      -153.017454       210.047673           -0.728           0.466\n",
       "===============================================================================\n",
       "\n",
       "Results for equation count\n",
       "===============================================================================\n",
       "                  coefficient       std. error           t-stat            prob\n",
       "-------------------------------------------------------------------------------\n",
       "const                3.944726         6.079096            0.649           0.516\n",
       "L1.open              0.000076         0.002561            0.030           0.976\n",
       "L1.count            -0.797134         0.262892           -3.032           0.002\n",
       "L1.sentiment         3.416824         2.447915            1.396           0.163\n",
       "L2.open             -0.005732         0.002856           -2.007           0.045\n",
       "L2.count            -0.391134         0.309587           -1.263           0.206\n",
       "L2.sentiment         0.435129         3.315599            0.131           0.896\n",
       "L3.open             -0.002075         0.002775           -0.748           0.455\n",
       "L3.count             0.023892         0.263570            0.091           0.928\n",
       "L3.sentiment        -1.546280         2.207417           -0.700           0.484\n",
       "===============================================================================\n",
       "\n",
       "Results for equation sentiment\n",
       "===============================================================================\n",
       "                  coefficient       std. error           t-stat            prob\n",
       "-------------------------------------------------------------------------------\n",
       "const                0.152917         0.534200            0.286           0.775\n",
       "L1.open              0.000301         0.000225            1.336           0.181\n",
       "L1.count             0.001791         0.023102            0.078           0.938\n",
       "L1.sentiment        -0.752899         0.215110           -3.500           0.000\n",
       "L2.open             -0.000094         0.000251           -0.375           0.708\n",
       "L2.count             0.003528         0.027205            0.130           0.897\n",
       "L2.sentiment        -0.469697         0.291358           -1.612           0.107\n",
       "L3.open             -0.000253         0.000244           -1.038           0.299\n",
       "L3.count             0.065218         0.023161            2.816           0.005\n",
       "L3.sentiment        -0.580021         0.193977           -2.990           0.003\n",
       "===============================================================================\n",
       "\n",
       "Correlation matrix of residuals\n",
       "                 open     count  sentiment\n",
       "open         1.000000 -0.157805  -0.176435\n",
       "count       -0.157805  1.000000   0.540981\n",
       "sentiment   -0.176435  0.540981   1.000000\n",
       "\n"
      ]
     },
     "execution_count": 16,
     "metadata": {},
     "output_type": "execute_result"
    }
   ],
   "source": [
    "results = model.fit(3)\n",
    "results.summary()"
   ]
  },
  {
   "cell_type": "code",
   "execution_count": 17,
   "metadata": {},
   "outputs": [
    {
     "name": "stdout",
     "output_type": "stream",
     "text": [
      "open : 1.85\n",
      "count : 1.83\n",
      "sentiment : 2.39\n"
     ]
    }
   ],
   "source": [
    "from statsmodels.stats.stattools import durbin_watson\n",
    "\n",
    "out = durbin_watson(results.resid)\n",
    "\n",
    "\n",
    "for col, val in zip(train.columns, out):\n",
    "    print(col, ':', round(val, 2))\n"
   ]
  },
  {
   "cell_type": "code",
   "execution_count": 18,
   "metadata": {},
   "outputs": [
    {
     "name": "stdout",
     "output_type": "stream",
     "text": [
      "LAG ORDER IS: 3 \n",
      "2022-03-26\n",
      "              count_2d  open_forecast   count_1d  count_forecast  \\\n",
      "2022-03-26  100.761694   55413.856996 -17.238306      152.761694   \n",
      "2022-03-27   -7.461026   53009.645188 -24.699332      128.062362   \n",
      "2022-03-28  -25.208365   53983.832842 -49.907696       78.154666   \n",
      "\n",
      "            sentiment_forecast  \n",
      "2022-03-26           14.291722  \n",
      "2022-03-27           13.158157  \n",
      "2022-03-28            4.218879  \n"
     ]
    }
   ],
   "source": [
    "lag_order = results.k_ar\n",
    "\n",
    "print(\"LAG ORDER IS: {} \".format(lag_order))\n",
    "\n",
    "forecasting_input = df_difference.values[-lag_order:]\n",
    "\n",
    "\n",
    "fc = results.forecast(forecasting_input, steps=num_obs)\n",
    "\n",
    "print(df_difference.index[-1])\n",
    "\n",
    "idx = pd.date_range(str(df_difference.index[-1]), periods=num_obs, freq='D')\n",
    "\n",
    "df_forecast = pd.DataFrame(fc, index=idx, columns=df_difference.columns + '_2d')\n",
    "\n",
    "def invert_transformation(df_train, df_forecast, second_diff=False):\n",
    "    \"\"\"Revert back the differencing to get the forecast to original scale.\"\"\"\n",
    "    df_fc = df_forecast.copy()\n",
    "    columns = df_train.columns\n",
    "    for col in columns:        \n",
    "        # Roll back 2nd Diff\n",
    "        if second_diff:\n",
    "            df_fc[str(col)+'_1d'] = (df_train[col].iloc[-1]-df_train[col].iloc[-2]) + df_fc[str(col)+'_2d'].cumsum()\n",
    "        # Roll back 1st Diff\n",
    "        df_fc[str(col)+'_forecast'] = df_train[col].iloc[-1] + df_fc[str(col)+'_1d'].cumsum()\n",
    "    return df_fc\n",
    "\n",
    "df_results = invert_transformation(merged_data[-regression_days_used:], df_forecast, second_diff=True)    \n",
    "df_results.drop([\"open_2d\", \"open_1d\", \"sentiment_1d\", \"sentiment_2d\"], axis=1, inplace=True)\n",
    "print(df_results)"
   ]
  },
  {
   "cell_type": "code",
   "execution_count": 19,
   "metadata": {},
   "outputs": [
    {
     "name": "stdout",
     "output_type": "stream",
     "text": [
      "                    open  count  sentiment\n",
      "timestamp                                 \n",
      "2022-03-24  53864.050890  296.0     21.833\n",
      "2022-03-25  55047.920399  288.0     19.408\n",
      "2022-03-26  55328.665889  170.0     15.909\n",
      "            open_forecast  sentiment_forecast\n",
      "2022-03-26   55413.856996           14.291722\n",
      "2022-03-27   53009.645188           13.158157\n",
      "2022-03-28   53983.832842            4.218879\n"
     ]
    }
   ],
   "source": [
    "print(merged_data[-num_obs:])\n",
    "\n",
    "forecasts = df_results[[\"open_forecast\", \"sentiment_forecast\"]]\n",
    "print(forecasts)"
   ]
  },
  {
   "cell_type": "code",
   "execution_count": 20,
   "metadata": {},
   "outputs": [
    {
     "name": "stdout",
     "output_type": "stream",
     "text": [
      "2022-03-26    55413.856996\n",
      "2022-03-27    53009.645188\n",
      "2022-03-28    53983.832842\n",
      "Freq: D, Name: open_forecast, dtype: float64\n"
     ]
    },
    {
     "data": {
      "text/plain": [
       "<AxesSubplot:xlabel='timestamp'>"
      ]
     },
     "execution_count": 20,
     "metadata": {},
     "output_type": "execute_result"
    },
    {
     "data": {
      "image/png": "[encoded data removed]",
      "text/plain": [
       "<Figure size 432x288 with 1 Axes>"
      ]
     },
     "metadata": {
      "needs_background": "light"
     },
     "output_type": "display_data"
    }
   ],
   "source": [
    "\n",
    "forecast_data = forecasts[\"open_forecast\"]\n",
    "actual_data = merged_data[-30:][\"open\"]\n",
    "\n",
    "print(forecast_data)\n",
    "\n",
    "actual_data.plot(y=\"open\")\n",
    "forecast_data.plot(y=\"open_forecast\")"
   ]
  }
 ],
 "metadata": {
  "interpreter": {
   "hash": "2be5faf79681da6f2a61fdfdd5405d65d042280f7fba6178067603e3a2925119"
  },
  "kernelspec": {
   "display_name": "Python 3.10.1 64-bit",
   "language": "python",
   "name": "python3"
  },
  "language_info": {
   "codemirror_mode": {
    "name": "ipython",
    "version": 3
   },
   "file_extension": ".py",
   "mimetype": "text/x-python",
   "name": "python",
   "nbconvert_exporter": "python",
   "pygments_lexer": "ipython3",
   "version": "3.10.1"
  },
  "orig_nbformat": 4
 },
 "nbformat": 4,
 "nbformat_minor": 2
}
