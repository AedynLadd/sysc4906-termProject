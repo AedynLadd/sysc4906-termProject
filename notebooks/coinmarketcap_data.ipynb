{
 "cells": [
  {
   "cell_type": "code",
   "execution_count": 1,
   "id": "ea859532-e82e-42b2-8526-37df14945da8",
   "metadata": {},
   "outputs": [],
   "source": [
    "import json\n",
    "import codecs\n",
    "import os\n",
    "import urllib.request\n",
    "import pandas as pd\n",
    "from urllib.error import URLError"
   ]
  },
  {
   "cell_type": "markdown",
   "id": "e1a3cd6c-c656-4da3-a8af-6a60f4826024",
   "metadata": {},
   "source": [
    "Create folder for history data"
   ]
  },
  {
   "cell_type": "code",
   "execution_count": 93,
   "id": "8bac728b-2b97-49ea-a4d4-bc2f87f531b3",
   "metadata": {
    "tags": []
   },
   "outputs": [
    {
     "name": "stdout",
     "output_type": "stream",
     "text": [
      "[WinError 183] Cannot create a file when that file already exists: 'cryptoData'\n"
     ]
    }
   ],
   "source": [
    "try: \n",
    "    os.mkdir('cryptoData')\n",
    "except OSError as error: \n",
    "    print(error) "
   ]
  },
  {
   "cell_type": "markdown",
   "id": "13c76bf1-cdf1-4a05-bc60-259fe029b57c",
   "metadata": {},
   "source": [
    "Download all token data as .json"
   ]
  },
  {
   "cell_type": "code",
   "execution_count": 89,
   "id": "d5c79c33-f251-4749-9082-6ac296808ac1",
   "metadata": {},
   "outputs": [],
   "source": [
    "target_file_path = 'tokens.json' # download saved .json to folder which script exists in\n",
    "\n",
    "try:\n",
    "    response = urllib.request.urlopen('https://api.coinmarketcap.com/data-api/v3/map/all')\n",
    "    html_content = response.read()\n",
    "\n",
    "    with open(target_file_path,\"wb\") as fp:\n",
    "        fp.write(html_content)\n",
    "\n",
    "except URLError as e:\n",
    "    print(\"Unable to download page: \"+str(e.reason))"
   ]
  },
  {
   "cell_type": "markdown",
   "id": "e25a8e22-2eba-41c3-9596-6247ec3c0f6c",
   "metadata": {},
   "source": [
    "Get top 100 tokens id's and names by marketcap size"
   ]
  },
  {
   "cell_type": "code",
   "execution_count": 3,
   "id": "40004f60-225d-42b1-acba-110d388bce85",
   "metadata": {},
   "outputs": [],
   "source": [
    "# open and parse tokens.json data and ignore encoding errors\n",
    "with codecs.open('tokens.json', 'r', encoding='utf-8', errors='ignore') as file1:\n",
    "    tokens = json.load(file1)\n",
    "# .json tree tokens->data->cryptoCurrencyMap    \n",
    "data = tokens['data']\n",
    "cMap = data['cryptoCurrencyMap']\n",
    "names = []\n",
    "ids = []\n",
    "slugs = []\n",
    "for i in range (0, 100):    \n",
    "    names.append(cMap[i]['name'])\n",
    "    ids.append(cMap[i]['id'])\n",
    "    slugs.append(cMap[i]['slug'])"
   ]
  },
  {
   "cell_type": "markdown",
   "id": "71fb363e-2731-429c-93f2-063664cae171",
   "metadata": {},
   "source": [
    "Download .json file for all top 100 tokens"
   ]
  },
  {
   "cell_type": "code",
   "execution_count": 15,
   "id": "059a0ec0-230e-4d88-bdb6-77e9fd8d1087",
   "metadata": {},
   "outputs": [],
   "source": [
    "for i in range (0,len(names)):\n",
    "    newUrl = 'https://api.coinmarketcap.com/data-api/v3/cryptocurrency/historical?id=' + str(ids[i]) + '&convertId=2784&timeStart=1613665956&timeEnd=1645201956' \n",
    "    pathStr = 'cryptoData/' + names[i] + '.json'\n",
    "    target_file_path = pathStr # downloaded page saved here\n",
    "\n",
    "    try:\n",
    "        response = urllib.request.urlopen(newUrl)\n",
    "        html_content = response.read()\n",
    "\n",
    "        with open(target_file_path,\"wb\") as fp:\n",
    "            fp.write(html_content)\n",
    "\n",
    "    except URLError as e:\n",
    "        print(\"Unable to download page: \"+str(e.reason))"
   ]
  },
  {
   "cell_type": "markdown",
   "id": "2787178a-9b95-478a-b4ab-ec2a774ea0aa",
   "metadata": {},
   "source": [
    "Download .csv file for all top 100 tokens"
   ]
  },
  {
   "cell_type": "code",
   "execution_count": 14,
   "id": "cf5d4f44-a011-4fa9-900a-102265c64a54",
   "metadata": {},
   "outputs": [],
   "source": [
    "df = pd.DataFrame(ids, columns=[\"ID\"])\n",
    "df.insert(1,\"Coin\",names)\n",
    "df.insert(2,\"Slug\",slugs)\n",
    "df.to_csv('tickers.csv')"
   ]
  },
  {
   "cell_type": "code",
   "execution_count": null,
   "id": "cf8d74a7-74cc-4bab-8e26-a0ce941acf35",
   "metadata": {},
   "outputs": [],
   "source": []
  }
 ],
 "metadata": {
  "kernelspec": {
   "display_name": "Python 3 (ipykernel)",
   "language": "python",
   "name": "python3"
  },
  "language_info": {
   "codemirror_mode": {
    "name": "ipython",
    "version": 3
   },
   "file_extension": ".py",
   "mimetype": "text/x-python",
   "name": "python",
   "nbconvert_exporter": "python",
   "pygments_lexer": "ipython3",
   "version": "3.9.7"
  }
 },
 "nbformat": 4,
 "nbformat_minor": 5
}
